{
  "nbformat": 4,
  "nbformat_minor": 0,
  "metadata": {
    "colab": {
      "provenance": [],
      "authorship_tag": "ABX9TyNP7K72wZy1UkEC6G/Hw6rj",
      "include_colab_link": true
    },
    "kernelspec": {
      "name": "python3",
      "display_name": "Python 3"
    },
    "language_info": {
      "name": "python"
    }
  },
  "cells": [
    {
      "cell_type": "markdown",
      "metadata": {
        "id": "view-in-github",
        "colab_type": "text"
      },
      "source": [
        "<a href=\"https://colab.research.google.com/github/karamii113/Tamrin2/blob/main/Copy_of_Untitled2.ipynb\" target=\"_parent\"><img src=\"https://colab.research.google.com/assets/colab-badge.svg\" alt=\"Open In Colab\"/></a>"
      ]
    },
    {
      "cell_type": "code",
      "execution_count": null,
      "metadata": {
        "id": "WVe0vt5pr5kb"
      },
      "outputs": [],
      "source": [
        "import random"
      ]
    },
    {
      "cell_type": "code",
      "source": [
        "phone_numbers = []"
      ],
      "metadata": {
        "id": "Nq4KhNhDsEb8"
      },
      "execution_count": null,
      "outputs": []
    },
    {
      "cell_type": "code",
      "source": [
        "num_phones = int(input(\"شرکت کننده ها\"))"
      ],
      "metadata": {
        "colab": {
          "base_uri": "https://localhost:8080/"
        },
        "id": "iY9w0D6zsNli",
        "outputId": "f1a53537-9a25-46d5-aa4d-1be7e92b69f8"
      },
      "execution_count": null,
      "outputs": [
        {
          "name": "stdout",
          "output_type": "stream",
          "text": [
            "شرکت کننده ها7\n"
          ]
        }
      ]
    },
    {
      "cell_type": "code",
      "source": [
        "num_winners = int(input(\"برندگان\"))"
      ],
      "metadata": {
        "colab": {
          "base_uri": "https://localhost:8080/"
        },
        "id": "hRnblwZZtr3U",
        "outputId": "76956652-9459-46a0-a9ed-c500ca9b40b2"
      },
      "execution_count": null,
      "outputs": [
        {
          "name": "stdout",
          "output_type": "stream",
          "text": [
            "برندگان3\n"
          ]
        }
      ]
    },
    {
      "cell_type": "code",
      "source": [
        "for i in range(num_phones):\n",
        "    pre=\"09\"\n",
        "    numbers = random.randint(100_000_000, 999_999_999)\n",
        "    phone_number = f\"{pre}{numbers}\"\n",
        "    phone_numbers.append(phone_number)"
      ],
      "metadata": {
        "id": "JYdaFN-9t87p"
      },
      "execution_count": null,
      "outputs": []
    },
    {
      "cell_type": "code",
      "source": [
        "winners = random.sample(phone_numbers, num_winners)"
      ],
      "metadata": {
        "id": "1RkOImg3yVB9"
      },
      "execution_count": null,
      "outputs": []
    },
    {
      "cell_type": "code",
      "source": [
        "for winner in winners:\n",
        "    first_4_digits = winner[:4]\n",
        "    last_3_numbers = winner[-3:]\n",
        "    stars =\"****\"\n",
        "    print(\"The winner is:\", first_4_digits, stars, last_3_numbers, sep=' ')"
      ],
      "metadata": {
        "colab": {
          "base_uri": "https://localhost:8080/"
        },
        "id": "i9hq3b-qzARz",
        "outputId": "58aab471-119a-4155-829b-c3a8e2b93b1c"
      },
      "execution_count": null,
      "outputs": [
        {
          "output_type": "stream",
          "name": "stdout",
          "text": [
            "The winner is: 0946 **** 896\n",
            "The winner is: 0989 **** 692\n",
            "The winner is: 0921 **** 525\n"
          ]
        }
      ]
    }
  ]
}